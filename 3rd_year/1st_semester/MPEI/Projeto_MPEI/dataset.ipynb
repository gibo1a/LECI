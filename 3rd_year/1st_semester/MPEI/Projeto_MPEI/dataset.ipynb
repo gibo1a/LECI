{
 "cells": [
  {
   "cell_type": "code",
   "execution_count": 14,
   "metadata": {},
   "outputs": [],
   "source": [
    "import mlcroissant as mlc\n",
    "import pandas as pd\n",
    "import numpy as np"
   ]
  },
  {
   "cell_type": "code",
   "execution_count": 15,
   "metadata": {},
   "outputs": [
    {
     "name": "stderr",
     "output_type": "stream",
     "text": [
      "WARNING:absl:WARNING: The JSON-LD `@context` is not standard. Refer to the official @context (e.g., from the example datasets in https://github.com/mlcommons/croissant/tree/main/datasets/1.0). The different keys are: {'rai', 'examples'}\n"
     ]
    },
    {
     "name": "stderr",
     "output_type": "stream",
     "text": [
      "WARNING:absl:Found the following 1 warning(s) during the validation:\n",
      "  -  [Metadata(15,000 Music Tracks - 19 Genres (w/ Spotify Data))] Property \"http://mlcommons.org/croissant/citeAs\" is recommended, but does not exist.\n"
     ]
    },
    {
     "name": "stdout",
     "output_type": "stream",
     "text": [
      "[RecordSet(uuid=\"ClassicHit.csv\")]\n"
     ]
    }
   ],
   "source": [
    "# Fetch the Croissant JSON-LD\n",
    "croissant_dataset = mlc.Dataset('10400-classic-hits-10-genres-1923-to-2023-metadata.json')\n",
    "\n",
    "# Check what record sets are in the dataset\n",
    "record_sets = croissant_dataset.metadata.record_sets\n",
    "print(record_sets)\n",
    "\n",
    "# Fetch the records and put them in a DataFrame\n",
    "record_set_df = pd.DataFrame(croissant_dataset.records(record_set=record_sets[0].uuid))\n",
    "playslist = pd.read_csv(\"playlist.csv\")\n"
   ]
  },
  {
   "cell_type": "code",
   "execution_count": 16,
   "metadata": {},
   "outputs": [],
   "source": [
    "record_set_df = record_set_df[[\"ClassicHit.csv/Track\",\"ClassicHit.csv/Artist\",\"ClassicHit.csv/Genre\"]]\n",
    "record_set_df = record_set_df.map(lambda x : x.decode())"
   ]
  },
  {
   "cell_type": "code",
   "execution_count": 18,
   "metadata": {},
   "outputs": [
    {
     "data": {
      "text/html": [
       "<div>\n",
       "<style scoped>\n",
       "    .dataframe tbody tr th:only-of-type {\n",
       "        vertical-align: middle;\n",
       "    }\n",
       "\n",
       "    .dataframe tbody tr th {\n",
       "        vertical-align: top;\n",
       "    }\n",
       "\n",
       "    .dataframe thead th {\n",
       "        text-align: right;\n",
       "    }\n",
       "</style>\n",
       "<table border=\"1\" class=\"dataframe\">\n",
       "  <thead>\n",
       "    <tr style=\"text-align: right;\">\n",
       "      <th></th>\n",
       "      <th>Track name</th>\n",
       "      <th>artists</th>\n",
       "      <th>genre</th>\n",
       "      <th>Likes</th>\n",
       "    </tr>\n",
       "  </thead>\n",
       "  <tbody>\n",
       "    <tr>\n",
       "      <th>0</th>\n",
       "      <td>Suffocate</td>\n",
       "      <td>LANDMVRKS, Chunk! No, Captain Chunk!</td>\n",
       "      <td>metalcore</td>\n",
       "      <td>LIKE</td>\n",
       "    </tr>\n",
       "    <tr>\n",
       "      <th>2</th>\n",
       "      <td>Landmine</td>\n",
       "      <td>Polaris</td>\n",
       "      <td>metalcore</td>\n",
       "      <td>LIKE</td>\n",
       "    </tr>\n",
       "    <tr>\n",
       "      <th>3</th>\n",
       "      <td>Terrorist</td>\n",
       "      <td>NOVELISTS</td>\n",
       "      <td>metalcore</td>\n",
       "      <td>LIKE</td>\n",
       "    </tr>\n",
       "    <tr>\n",
       "      <th>8</th>\n",
       "      <td>Without a Whisper</td>\n",
       "      <td>Invent Animate</td>\n",
       "      <td>metalcore</td>\n",
       "      <td>LIKE</td>\n",
       "    </tr>\n",
       "    <tr>\n",
       "      <th>9</th>\n",
       "      <td>Plagued</td>\n",
       "      <td>We Came As Romans</td>\n",
       "      <td>metalcore</td>\n",
       "      <td>LIKE</td>\n",
       "    </tr>\n",
       "    <tr>\n",
       "      <th>...</th>\n",
       "      <td>...</td>\n",
       "      <td>...</td>\n",
       "      <td>...</td>\n",
       "      <td>...</td>\n",
       "    </tr>\n",
       "    <tr>\n",
       "      <th>525</th>\n",
       "      <td>Younger</td>\n",
       "      <td>Saviour</td>\n",
       "      <td>metalcore</td>\n",
       "      <td>LIKE</td>\n",
       "    </tr>\n",
       "    <tr>\n",
       "      <th>527</th>\n",
       "      <td>Where We Go When We Die</td>\n",
       "      <td>Thornhill</td>\n",
       "      <td>metalcore</td>\n",
       "      <td>LIKE</td>\n",
       "    </tr>\n",
       "    <tr>\n",
       "      <th>528</th>\n",
       "      <td>Welcome To Horrorwood</td>\n",
       "      <td>Ice Nine Kills</td>\n",
       "      <td>metalcore</td>\n",
       "      <td>LIKE</td>\n",
       "    </tr>\n",
       "    <tr>\n",
       "      <th>529</th>\n",
       "      <td>Intergalactic Casanova</td>\n",
       "      <td>One Morning Left</td>\n",
       "      <td>metalcore</td>\n",
       "      <td>LIKE</td>\n",
       "    </tr>\n",
       "    <tr>\n",
       "      <th>530</th>\n",
       "      <td>Latent Perception</td>\n",
       "      <td>Before I Turn</td>\n",
       "      <td>metalcore</td>\n",
       "      <td>LIKE</td>\n",
       "    </tr>\n",
       "  </tbody>\n",
       "</table>\n",
       "<p>268 rows × 4 columns</p>\n",
       "</div>"
      ],
      "text/plain": [
       "                  Track name                               artists      genre  \\\n",
       "0                  Suffocate  LANDMVRKS, Chunk! No, Captain Chunk!  metalcore   \n",
       "2                   Landmine                               Polaris  metalcore   \n",
       "3                  Terrorist                             NOVELISTS  metalcore   \n",
       "8          Without a Whisper                        Invent Animate  metalcore   \n",
       "9                    Plagued                     We Came As Romans  metalcore   \n",
       "..                       ...                                   ...        ...   \n",
       "525                  Younger                               Saviour  metalcore   \n",
       "527  Where We Go When We Die                             Thornhill  metalcore   \n",
       "528    Welcome To Horrorwood                        Ice Nine Kills  metalcore   \n",
       "529   Intergalactic Casanova                      One Morning Left  metalcore   \n",
       "530        Latent Perception                         Before I Turn  metalcore   \n",
       "\n",
       "    Likes  \n",
       "0    LIKE  \n",
       "2    LIKE  \n",
       "3    LIKE  \n",
       "8    LIKE  \n",
       "9    LIKE  \n",
       "..    ...  \n",
       "525  LIKE  \n",
       "527  LIKE  \n",
       "528  LIKE  \n",
       "529  LIKE  \n",
       "530  LIKE  \n",
       "\n",
       "[268 rows x 4 columns]"
      ]
     },
     "execution_count": 18,
     "metadata": {},
     "output_type": "execute_result"
    }
   ],
   "source": [
    "likes = list()\n",
    "for i in playslist.index :\n",
    "    if playslist.at[i,\"genre\"] == \"metalcore\":\n",
    "        likes.append(\"LIKE\")\n",
    "    else:\n",
    "        likes.append(\"DISLIKE\")\n",
    "\n",
    "playslist = playslist[playslist[\"Likes\"] == \"LIKE\"]\n",
    "#playslist = playslist.drop(playslist.columns[0],axis=1)\n",
    "playslist"
   ]
  },
  {
   "cell_type": "code",
   "execution_count": 19,
   "metadata": {},
   "outputs": [],
   "source": [
    "metal = record_set_df[record_set_df[\"ClassicHit.csv/Genre\"] == 'Metal']"
   ]
  },
  {
   "cell_type": "code",
   "execution_count": 20,
   "metadata": {},
   "outputs": [],
   "source": [
    "for i in metal.index:\n",
    "    record_set_df.at[i,\"ClassicHit.csv/Genre\"] = \"metalcore\"\n",
    "\n",
    "likes = list()\n",
    "for i in record_set_df.index :\n",
    "    if record_set_df.at[i,\"ClassicHit.csv/Genre\"] == \"metalcore\":\n",
    "        likes.append(\"LIKE\")\n",
    "    else:\n",
    "        likes.append(\"DISLIKE\")\n",
    "record_set_df[\"Like\"] = likes\n",
    "record_set_df.columns = playslist.columns\n",
    "record_set_df[record_set_df.columns[0]] = record_set_df[record_set_df.columns[0]].apply(lambda x: str(x))"
   ]
  },
  {
   "cell_type": "code",
   "execution_count": 29,
   "metadata": {},
   "outputs": [
    {
     "data": {
      "text/plain": [
       "array(['1982', \"Diggin' Up Bones\", 'On the Other Hand',\n",
       "       'Forever and Ever,Amen', 'Is It Still Over?',\n",
       "       'Deeper Than the Holler', 'I Told You So', 'Look Heart,No Hands',\n",
       "       'Heroes and Friends', 'Three Wooden Crosses'], dtype=object)"
      ]
     },
     "execution_count": 29,
     "metadata": {},
     "output_type": "execute_result"
    }
   ],
   "source": [
    "record_set_df[record_set_df[\"artists\"]]"
   ]
  },
  {
   "cell_type": "code",
   "execution_count": 30,
   "metadata": {},
   "outputs": [],
   "source": [
    "record_set_df.to_csv(\"music.csv\")"
   ]
  },
  {
   "cell_type": "code",
   "execution_count": 12,
   "metadata": {},
   "outputs": [
    {
     "data": {
      "text/html": [
       "<div>\n",
       "<style scoped>\n",
       "    .dataframe tbody tr th:only-of-type {\n",
       "        vertical-align: middle;\n",
       "    }\n",
       "\n",
       "    .dataframe tbody tr th {\n",
       "        vertical-align: top;\n",
       "    }\n",
       "\n",
       "    .dataframe thead th {\n",
       "        text-align: right;\n",
       "    }\n",
       "</style>\n",
       "<table border=\"1\" class=\"dataframe\">\n",
       "  <thead>\n",
       "    <tr style=\"text-align: right;\">\n",
       "      <th></th>\n",
       "      <th>Track name</th>\n",
       "      <th>artists</th>\n",
       "      <th>genre</th>\n",
       "      <th>Likes</th>\n",
       "    </tr>\n",
       "  </thead>\n",
       "  <tbody>\n",
       "    <tr>\n",
       "      <th>5700</th>\n",
       "      <td>3 Libras</td>\n",
       "      <td>A Perfect Circle</td>\n",
       "      <td>metalcore</td>\n",
       "      <td>LIKE</td>\n",
       "    </tr>\n",
       "    <tr>\n",
       "      <th>5701</th>\n",
       "      <td>Judith</td>\n",
       "      <td>A Perfect Circle</td>\n",
       "      <td>metalcore</td>\n",
       "      <td>LIKE</td>\n",
       "    </tr>\n",
       "    <tr>\n",
       "      <th>5702</th>\n",
       "      <td>By And Down The River</td>\n",
       "      <td>A Perfect Circle</td>\n",
       "      <td>metalcore</td>\n",
       "      <td>LIKE</td>\n",
       "    </tr>\n",
       "    <tr>\n",
       "      <th>5703</th>\n",
       "      <td>Rose</td>\n",
       "      <td>A Perfect Circle</td>\n",
       "      <td>metalcore</td>\n",
       "      <td>LIKE</td>\n",
       "    </tr>\n",
       "    <tr>\n",
       "      <th>5704</th>\n",
       "      <td>Weak And Powerless</td>\n",
       "      <td>A Perfect Circle</td>\n",
       "      <td>metalcore</td>\n",
       "      <td>LIKE</td>\n",
       "    </tr>\n",
       "    <tr>\n",
       "      <th>...</th>\n",
       "      <td>...</td>\n",
       "      <td>...</td>\n",
       "      <td>...</td>\n",
       "      <td>...</td>\n",
       "    </tr>\n",
       "    <tr>\n",
       "      <th>6617</th>\n",
       "      <td>Dreaming (Tell Me)</td>\n",
       "      <td>Yngwie Malmsteen</td>\n",
       "      <td>metalcore</td>\n",
       "      <td>LIKE</td>\n",
       "    </tr>\n",
       "    <tr>\n",
       "      <th>6618</th>\n",
       "      <td>Trilogy Suite Op: 5</td>\n",
       "      <td>Yngwie Malmsteen</td>\n",
       "      <td>metalcore</td>\n",
       "      <td>LIKE</td>\n",
       "    </tr>\n",
       "    <tr>\n",
       "      <th>6619</th>\n",
       "      <td>You Don't Remember,I'll Never Forget</td>\n",
       "      <td>Yngwie Malmsteen</td>\n",
       "      <td>metalcore</td>\n",
       "      <td>LIKE</td>\n",
       "    </tr>\n",
       "    <tr>\n",
       "      <th>6620</th>\n",
       "      <td>Far Beyond The Sun</td>\n",
       "      <td>Yngwie Malmsteen</td>\n",
       "      <td>metalcore</td>\n",
       "      <td>LIKE</td>\n",
       "    </tr>\n",
       "    <tr>\n",
       "      <th>6621</th>\n",
       "      <td>Facing The Animal</td>\n",
       "      <td>Yngwie Malmsteen</td>\n",
       "      <td>metalcore</td>\n",
       "      <td>LIKE</td>\n",
       "    </tr>\n",
       "  </tbody>\n",
       "</table>\n",
       "<p>922 rows × 4 columns</p>\n",
       "</div>"
      ],
      "text/plain": [
       "                                Track name           artists      genre Likes\n",
       "5700                              3 Libras  A Perfect Circle  metalcore  LIKE\n",
       "5701                                Judith  A Perfect Circle  metalcore  LIKE\n",
       "5702                 By And Down The River  A Perfect Circle  metalcore  LIKE\n",
       "5703                                  Rose  A Perfect Circle  metalcore  LIKE\n",
       "5704                    Weak And Powerless  A Perfect Circle  metalcore  LIKE\n",
       "...                                    ...               ...        ...   ...\n",
       "6617                    Dreaming (Tell Me)  Yngwie Malmsteen  metalcore  LIKE\n",
       "6618                   Trilogy Suite Op: 5  Yngwie Malmsteen  metalcore  LIKE\n",
       "6619  You Don't Remember,I'll Never Forget  Yngwie Malmsteen  metalcore  LIKE\n",
       "6620                    Far Beyond The Sun  Yngwie Malmsteen  metalcore  LIKE\n",
       "6621                     Facing The Animal  Yngwie Malmsteen  metalcore  LIKE\n",
       "\n",
       "[922 rows x 4 columns]"
      ]
     },
     "execution_count": 12,
     "metadata": {},
     "output_type": "execute_result"
    }
   ],
   "source": [
    "record_set_df[record_set_df[\"genre\"]==\"metalcore\"]"
   ]
  },
  {
   "cell_type": "code",
   "execution_count": 13,
   "metadata": {},
   "outputs": [],
   "source": [
    "playslist1 = pd.concat([record_set_df.iloc[np.random.choice(record_set_df.index,45)],playslist.loc[(np.random.choice(playslist.index,170))]])\n",
    "playslist2 = record_set_df[record_set_df[\"genre\"]==\"metalcore\"]\n",
    "playslist3 = record_set_df.iloc[np.random.choice(record_set_df.index,457)]\n",
    "playslist4 = pd.concat([record_set_df.iloc[np.random.choice(record_set_df.index,350)],playslist.loc[(np.random.choice(playslist.index,55))]])"
   ]
  },
  {
   "cell_type": "code",
   "execution_count": 14,
   "metadata": {},
   "outputs": [],
   "source": [
    "playslist1 = playslist1.sample(frac=1)\n",
    "playslist2 = playslist2.sample(frac=1)\n",
    "playslist3 = playslist3.sample(frac=1)\n",
    "playslist4 = playslist4.sample(frac=1)\n",
    "\n",
    "playslist1 = playslist1.drop(\"Likes\",axis=1)\n",
    "playslist2 = playslist2.drop(\"Likes\",axis=1)\n",
    "playslist3 = playslist3.drop(\"Likes\",axis=1)\n",
    "playslist4 = playslist4.drop(\"Likes\",axis=1)"
   ]
  },
  {
   "cell_type": "code",
   "execution_count": 15,
   "metadata": {},
   "outputs": [],
   "source": [
    "playslist1.to_csv(\"playlist1.csv\")\n",
    "playslist2.to_csv(\"playlist2.csv\")\n",
    "playslist3.to_csv(\"playlist3.csv\")\n",
    "playslist4.to_csv(\"playlist4.csv\")"
   ]
  }
 ],
 "metadata": {
  "kernelspec": {
   "display_name": "Python 3",
   "language": "python",
   "name": "python3"
  },
  "language_info": {
   "codemirror_mode": {
    "name": "ipython",
    "version": 3
   },
   "file_extension": ".py",
   "mimetype": "text/x-python",
   "name": "python",
   "nbconvert_exporter": "python",
   "pygments_lexer": "ipython3",
   "version": "3.10.12"
  }
 },
 "nbformat": 4,
 "nbformat_minor": 2
}
